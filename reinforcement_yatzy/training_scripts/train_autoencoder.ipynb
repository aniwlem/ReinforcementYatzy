{
  "cells": [
    {
      "cell_type": "code",
      "metadata": {},
      "source": [
        "\n",
        "import numpy as np\n",
        "import torch\n",
        "from torch import nn\n",
        "from torch import optim\n",
        "from torch.utils.data import Dataset, DataLoader\n",
        "\n",
        "# from ..nn_models.autoencoders.scoreboard_autoencoder import ScoreboardEncoder, ScoreboardDecoder, ScoreboardAutoencoder\n",
        "from reinforcement_yatzy.nn_models.autoencoders.scoreboard_autoencoder import ScoreboardEncoder, ScoreboardDecoder, ScoreboardAutoencoder\n",
        "# from ..yatzy.empty_training_player import TrainingYatzyPlayer\n",
        "from reinforcement_yatzy.yatzy.empty_training_player import TrainingYatzyPlayer"
      ],
      "outputs": [],
      "execution_count": null
    },
    {
      "cell_type": "code",
      "metadata": {},
      "source": [
        "\n",
        "\n",
        "class ScoreboardDataset(Dataset):\n",
        "    def __init__(self, buffer_size: int, p_replace: float = 0) -> None:\n",
        "        super().__init__()\n",
        "        self.player = TrainingYatzyPlayer()\n",
        "        self.buffer_size = buffer_size\n",
        "        self.buffer = [self._get_scoreboard() for _ in range(self.buffer_size)]\n",
        "        self.p_replace = p_replace\n",
        "\n",
        "    def _get_scoreboard(self):\n",
        "        self.player.throw_dice(range(5))\n",
        "        self.player.check_points_of_dice()\n",
        "        return torch.Tensor(self.player.scoreboard.values)\n",
        "\n",
        "    def __len__(self):\n",
        "        return self.buffer_size\n",
        "\n",
        "    def __getitem__(self, index) -> torch.Tensor:\n",
        "        if np.random.rand() < self.p_replace:\n",
        "            self.buffer[index] = self._get_scoreboard()\n",
        "        return self.buffer[index]"
      ],
      "outputs": [],
      "execution_count": null
    },
    {
      "cell_type": "code",
      "metadata": {},
      "source": [
        "\n",
        "\n",
        "def setup_autoencoder(encoder_dims: list[int], latent_dim: int) -> ScoreboardAutoencoder:\n",
        "    input_dim = TrainingYatzyPlayer.NUM_ENTRIES\n",
        "\n",
        "    encoder = ScoreboardEncoder(\n",
        "        input_dim=input_dim,\n",
        "        mlp_dims=encoder_dims,\n",
        "        latent_dim=latent_dim\n",
        "    )\n",
        "\n",
        "    decoder = ScoreboardDecoder(\n",
        "        input_dim=input_dim,\n",
        "        mlp_dims=encoder_dims[::-1],\n",
        "        latent_dim=latent_dim\n",
        "    )\n",
        "\n",
        "    autoencoder = ScoreboardAutoencoder(\n",
        "        encoder=encoder,\n",
        "        decoder=decoder,\n",
        "    )\n",
        "    return autoencoder\n"
      ],
      "outputs": [],
      "execution_count": null
    },
    {
      "cell_type": "code",
      "metadata": {},
      "source": [
        "def train_autoencoder(\n",
        "    autoencoder: ScoreboardAutoencoder,\n",
        "    data_loader: DataLoader,\n",
        "    epochs: int,\n",
        "):\n",
        "    criterion = nn.MSELoss()\n",
        "    optimizer = optim.Adam(autoencoder.parameters(), lr=1e-3)\n",
        "\n",
        "    for epoch in range(epochs):\n",
        "        for batch in data_loader:\n",
        "            outputs = autoencoder(batch)\n",
        "            optimizer.zero_grad()\n",
        "            loss = criterion(outputs, batch)\n",
        "            loss.backwards()\n",
        "            optimizer.step()\n",
        "            if epoch % 10 == 0:\n",
        "                print(f'Epoch {epoch} loss: {loss:.3f}')\n",
        "    return autoencoder\n"
      ],
      "outputs": [],
      "execution_count": null
    },
    {
      "cell_type": "code",
      "metadata": {},
      "source": [
        "save_path = 'bad_weights.pth'\n",
        "encoder_dims = [30, 20, 10,]\n",
        "latent_dim = 5\n",
        "autoencoder = setup_autoencoder(encoder_dims, latent_dim)\n",
        "\n",
        "dataset = ScoreboardDataset(buffer_size=256, p_replace=0.1)\n",
        "dataloader = DataLoader(dataset, batch_size=32, shuffle=True)\n",
        "\n",
        "epochs = 100\n",
        "train_autoencoder(autoencoder, dataloader, epochs)\n",
        "torch.save(autoencoder.encoder.parameters(), save_path)\n"
      ],
      "outputs": [],
      "execution_count": null
    }
  ],
  "metadata": {
    "anaconda-cloud": {},
    "kernelspec": {
      "display_name": "Python 3",
      "language": "python",
      "name": "python3"
    },
    "language_info": {
      "codemirror_mode": {
        "name": "ipython",
        "version": 3
      },
      "file_extension": ".py",
      "mimetype": "text/x-python",
      "name": "python",
      "nbconvert_exporter": "python",
      "pygments_lexer": "ipython3",
      "version": "3.6.1"
    }
  },
  "nbformat": 4,
  "nbformat_minor": 4
}